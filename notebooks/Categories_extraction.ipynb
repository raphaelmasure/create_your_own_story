{
 "cells": [
  {
   "cell_type": "code",
   "execution_count": 1,
   "id": "7036a0d7",
   "metadata": {
    "ExecuteTime": {
     "end_time": "2023-03-08T10:13:17.091320Z",
     "start_time": "2023-03-08T10:13:16.856522Z"
    }
   },
   "outputs": [],
   "source": [
    "import pandas as pd"
   ]
  },
  {
   "cell_type": "code",
   "execution_count": 2,
   "id": "8ce23b1b",
   "metadata": {
    "ExecuteTime": {
     "end_time": "2023-03-08T10:13:17.675254Z",
     "start_time": "2023-03-08T10:13:17.093202Z"
    }
   },
   "outputs": [],
   "source": [
    "import gensim\n",
    "from nltk.stem.porter import *\n",
    "from nltk.stem import WordNetLemmatizer\n",
    "from nltk.corpus import stopwords "
   ]
  },
  {
   "cell_type": "code",
   "execution_count": 3,
   "id": "27b8cdd0",
   "metadata": {
    "ExecuteTime": {
     "end_time": "2023-03-08T10:13:17.681404Z",
     "start_time": "2023-03-08T10:13:17.678930Z"
    }
   },
   "outputs": [],
   "source": [
    "stemmer = PorterStemmer()"
   ]
  },
  {
   "cell_type": "code",
   "execution_count": 4,
   "id": "1eb09ce1",
   "metadata": {
    "ExecuteTime": {
     "end_time": "2023-03-08T10:13:17.687873Z",
     "start_time": "2023-03-08T10:13:17.683665Z"
    }
   },
   "outputs": [],
   "source": [
    "def lemmatize_stemming(text):\n",
    "    text = stemmer.stem(WordNetLemmatizer().lemmatize(text, pos='n'))\n",
    "    return stemmer.stem(WordNetLemmatizer().lemmatize(text, pos='v'))# Tokenize and lemmatize\n",
    "def preprocess(text):\n",
    "    result=[]\n",
    "    for token in gensim.utils.simple_preprocess(text) :\n",
    "        if token not in gensim.parsing.preprocessing.STOPWORDS and token not in stopwords.words('english') and len(token) > 3:\n",
    "            result.append(lemmatize_stemming(token))\n",
    "            \n",
    "    return result"
   ]
  },
  {
   "cell_type": "code",
   "execution_count": 5,
   "id": "05ed163b",
   "metadata": {
    "ExecuteTime": {
     "end_time": "2023-03-08T10:13:18.542972Z",
     "start_time": "2023-03-08T10:13:17.690360Z"
    }
   },
   "outputs": [],
   "source": [
    "data=pd.read_csv('../processed_data/final2.csv' )\n",
    "data2=data[0:600]"
   ]
  },
  {
   "cell_type": "code",
   "execution_count": 6,
   "id": "88ec428a",
   "metadata": {
    "ExecuteTime": {
     "end_time": "2023-03-08T10:13:18.548949Z",
     "start_time": "2023-03-08T10:13:18.544825Z"
    }
   },
   "outputs": [
    {
     "name": "stderr",
     "output_type": "stream",
     "text": [
      "/tmp/ipykernel_11149/529990335.py:1: SettingWithCopyWarning: \n",
      "A value is trying to be set on a copy of a slice from a DataFrame.\n",
      "Try using .loc[row_indexer,col_indexer] = value instead\n",
      "\n",
      "See the caveats in the documentation: https://pandas.pydata.org/pandas-docs/stable/user_guide/indexing.html#returning-a-view-versus-a-copy\n",
      "  data2['token']=''\n"
     ]
    }
   ],
   "source": [
    "data2['token']=''"
   ]
  },
  {
   "cell_type": "code",
   "execution_count": 7,
   "id": "b370f4d2",
   "metadata": {
    "ExecuteTime": {
     "end_time": "2023-03-08T10:14:07.995591Z",
     "start_time": "2023-03-08T10:13:18.551300Z"
    }
   },
   "outputs": [
    {
     "name": "stderr",
     "output_type": "stream",
     "text": [
      "/tmp/ipykernel_11149/2213784045.py:1: SettingWithCopyWarning: \n",
      "A value is trying to be set on a copy of a slice from a DataFrame.\n",
      "Try using .loc[row_indexer,col_indexer] = value instead\n",
      "\n",
      "See the caveats in the documentation: https://pandas.pydata.org/pandas-docs/stable/user_guide/indexing.html#returning-a-view-versus-a-copy\n",
      "  data2['token']=data2['text'].apply(preprocess)\n"
     ]
    }
   ],
   "source": [
    "data2['token']=data2['text'].apply(preprocess)"
   ]
  },
  {
   "cell_type": "code",
   "execution_count": 8,
   "id": "fcd06f4f",
   "metadata": {
    "ExecuteTime": {
     "end_time": "2023-03-08T10:14:08.020694Z",
     "start_time": "2023-03-08T10:14:07.997613Z"
    }
   },
   "outputs": [
    {
     "name": "stderr",
     "output_type": "stream",
     "text": [
      "/tmp/ipykernel_11149/4173949469.py:1: SettingWithCopyWarning: \n",
      "A value is trying to be set on a copy of a slice from a DataFrame.\n",
      "Try using .loc[row_indexer,col_indexer] = value instead\n",
      "\n",
      "See the caveats in the documentation: https://pandas.pydata.org/pandas-docs/stable/user_guide/indexing.html#returning-a-view-versus-a-copy\n",
      "  data2['token']=data2['token'].apply(' '.join)\n"
     ]
    }
   ],
   "source": [
    "data2['token']=data2['token'].apply(' '.join)"
   ]
  },
  {
   "cell_type": "code",
   "execution_count": 9,
   "id": "79812c57",
   "metadata": {
    "ExecuteTime": {
     "end_time": "2023-03-08T10:14:08.030950Z",
     "start_time": "2023-03-08T10:14:08.023850Z"
    },
    "scrolled": true
   },
   "outputs": [
    {
     "data": {
      "text/plain": [
       "str"
      ]
     },
     "execution_count": 9,
     "metadata": {},
     "output_type": "execute_result"
    }
   ],
   "source": [
    "type(data2['token'][359])"
   ]
  },
  {
   "cell_type": "code",
   "execution_count": 10,
   "id": "c9334331",
   "metadata": {
    "ExecuteTime": {
     "end_time": "2023-03-08T10:14:08.157195Z",
     "start_time": "2023-03-08T10:14:08.032629Z"
    }
   },
   "outputs": [],
   "source": [
    "data2.to_csv('../processed_data/tokenizedmini.csv')"
   ]
  },
  {
   "cell_type": "code",
   "execution_count": 11,
   "id": "c010a1a7",
   "metadata": {
    "ExecuteTime": {
     "end_time": "2023-03-08T10:14:08.162253Z",
     "start_time": "2023-03-08T10:14:08.159862Z"
    }
   },
   "outputs": [],
   "source": [
    "#dictionary = gensim.corpora.Dictionary(processed_docs)"
   ]
  },
  {
   "cell_type": "code",
   "execution_count": 12,
   "id": "9fda438a",
   "metadata": {
    "ExecuteTime": {
     "end_time": "2023-03-08T10:14:08.217684Z",
     "start_time": "2023-03-08T10:14:08.165014Z"
    }
   },
   "outputs": [],
   "source": [
    "df=data2.text[0:300].copy()\n",
    "df2=data2.text[300:600].copy()\n",
    "df.to_csv('../processed_data/text.csv')\n"
   ]
  },
  {
   "cell_type": "code",
   "execution_count": 13,
   "id": "7a7de572",
   "metadata": {
    "ExecuteTime": {
     "end_time": "2023-03-08T10:14:08.269084Z",
     "start_time": "2023-03-08T10:14:08.219824Z"
    }
   },
   "outputs": [],
   "source": [
    "df2.to_csv('../processed_data/text2.csv')"
   ]
  }
 ],
 "metadata": {
  "kernelspec": {
   "display_name": "Python 3 (ipykernel)",
   "language": "python",
   "name": "python3"
  },
  "language_info": {
   "codemirror_mode": {
    "name": "ipython",
    "version": 3
   },
   "file_extension": ".py",
   "mimetype": "text/x-python",
   "name": "python",
   "nbconvert_exporter": "python",
   "pygments_lexer": "ipython3",
   "version": "3.10.6"
  },
  "toc": {
   "base_numbering": 1,
   "nav_menu": {},
   "number_sections": true,
   "sideBar": true,
   "skip_h1_title": false,
   "title_cell": "Table of Contents",
   "title_sidebar": "Contents",
   "toc_cell": false,
   "toc_position": {},
   "toc_section_display": true,
   "toc_window_display": false
  }
 },
 "nbformat": 4,
 "nbformat_minor": 5
}

{
 "cells": [
  {
   "cell_type": "markdown",
   "id": "1c47444b",
   "metadata": {
    "ExecuteTime": {
     "end_time": "2023-03-08T07:48:33.818200Z",
     "start_time": "2023-03-08T07:48:33.815415Z"
    }
   },
   "source": [
    "# IMPORTS"
   ]
  },
  {
   "cell_type": "code",
   "execution_count": 1,
   "id": "9a7deb5e",
   "metadata": {
    "ExecuteTime": {
     "end_time": "2023-03-08T07:41:43.141630Z",
     "start_time": "2023-03-08T07:41:39.871596Z"
    },
    "scrolled": true
   },
   "outputs": [
    {
     "name": "stderr",
     "output_type": "stream",
     "text": [
      "2023-03-08 08:41:39.901879: I tensorflow/core/platform/cpu_feature_guard.cc:193] This TensorFlow binary is optimized with oneAPI Deep Neural Network Library (oneDNN) to use the following CPU instructions in performance-critical operations:  AVX2 FMA\n",
      "To enable them in other operations, rebuild TensorFlow with the appropriate compiler flags.\n",
      "2023-03-08 08:41:40.301327: W tensorflow/stream_executor/platform/default/dso_loader.cc:64] Could not load dynamic library 'libcudart.so.11.0'; dlerror: libcudart.so.11.0: cannot open shared object file: No such file or directory\n",
      "2023-03-08 08:41:40.301359: I tensorflow/stream_executor/cuda/cudart_stub.cc:29] Ignore above cudart dlerror if you do not have a GPU set up on your machine.\n",
      "2023-03-08 08:41:40.347987: E tensorflow/stream_executor/cuda/cuda_blas.cc:2981] Unable to register cuBLAS factory: Attempting to register factory for plugin cuBLAS when one has already been registered\n",
      "2023-03-08 08:41:41.537795: W tensorflow/stream_executor/platform/default/dso_loader.cc:64] Could not load dynamic library 'libnvinfer.so.7'; dlerror: libnvinfer.so.7: cannot open shared object file: No such file or directory\n",
      "2023-03-08 08:41:41.537877: W tensorflow/stream_executor/platform/default/dso_loader.cc:64] Could not load dynamic library 'libnvinfer_plugin.so.7'; dlerror: libnvinfer_plugin.so.7: cannot open shared object file: No such file or directory\n",
      "2023-03-08 08:41:41.537882: W tensorflow/compiler/tf2tensorrt/utils/py_utils.cc:38] TF-TRT Warning: Cannot dlopen some TensorRT libraries. If you would like to use Nvidia GPU with TensorRT, please make sure the missing libraries mentioned above are installed properly.\n"
     ]
    }
   ],
   "source": [
    "import tensorflow as tf\n",
    "import numpy as np\n",
    "import os\n",
    "import pandas as pd"
   ]
  },
  {
   "cell_type": "markdown",
   "id": "dfd615e8",
   "metadata": {},
   "source": [
    "# Fonctions"
   ]
  },
  {
   "cell_type": "code",
   "execution_count": 3,
   "id": "9fed30cb",
   "metadata": {
    "ExecuteTime": {
     "end_time": "2023-03-08T07:44:12.422154Z",
     "start_time": "2023-03-08T07:44:12.418116Z"
    }
   },
   "outputs": [],
   "source": [
    "def preprocess_data(dataset):\n",
    "    # Tokenize the dataset using the GPT-2 tokenizer\n",
    "    tokenizer = tfds.features.text.SubwordTextEncoder.load_from_file(os.path.join('../../gpt2', '117M', 'encoder.json'))\n",
    "    tokenized_dataset = [tokenizer.encode(d) for d in dataset]\n",
    "    \n",
    "    # Pad and batch the tokenized dataset\n",
    "    max_length = max(len(d) for d in tokenized_dataset)\n",
    "    padded_dataset = tf.keras.preprocessing.sequence.pad_sequences(tokenized_dataset, maxlen=max_length, padding='post')\n",
    "    batched_dataset = np.array([padded_dataset])\n",
    "    \n",
    "    return batched_dataset\n",
    "\n",
    "def gpt2_model(input_text, labels, sess):\n",
    "    # Your model architecture here\n",
    "    return model\n",
    "\n",
    "def train(model, dataset):\n",
    "    # Your training code here\n",
    "    return trained_model\n",
    "\n",
    "def generate_text(model, sess, input_str):\n",
    "    input_ids = tokenizer.encode(input_str, return_tensors='tf')\n",
    "    output = model.generate(input_ids, max_length=100, do_sample=True)\n",
    "    generated_text = tokenizer.decode(output[0], skip_special_tokens=True)\n",
    "\n",
    "    return generated_text"
   ]
  },
  {
   "cell_type": "markdown",
   "id": "613dcad9",
   "metadata": {},
   "source": [
    "# Initialisation"
   ]
  },
  {
   "cell_type": "markdown",
   "id": "57ef8104",
   "metadata": {},
   "source": [
    "## GTP2"
   ]
  },
  {
   "cell_type": "code",
   "execution_count": null,
   "id": "05c14457",
   "metadata": {},
   "outputs": [],
   "source": [
    "\n",
    "# Load the GPT-2 model checkpoint\n",
    "model_name = '117M' # or '345M' or '774M' or '1558M'\n",
    "checkpoint_dir = os.path.join('../../gpt2', model_name)\n",
    "sess = tf.Session()\n",
    "saver = tf.train.import_meta_graph(os.path.join(checkpoint_dir, 'model.ckpt.meta'))\n",
    "saver.restore(sess, os.path.join(checkpoint_dir, 'model.ckpt'))\n"
   ]
  },
  {
   "cell_type": "markdown",
   "id": "0363ebf8",
   "metadata": {},
   "source": [
    "## Dataset"
   ]
  },
  {
   "cell_type": "code",
   "execution_count": null,
   "id": "7ad13383",
   "metadata": {},
   "outputs": [],
   "source": [
    "# Fine-tune the model on your own dataset\n",
    "# Define your dataset and preprocessing here\n",
    "df = pd.read_csv('../processed_data/tokenized.csv')\n",
    "dataset = df['text']\n",
    "preprocessed_dataset = preprocess_data(dataset)"
   ]
  },
  {
   "cell_type": "markdown",
   "id": "11b7e329",
   "metadata": {},
   "source": [
    "# Train et Fine-tuning"
   ]
  },
  {
   "cell_type": "code",
   "execution_count": null,
   "id": "a9ff58fd",
   "metadata": {},
   "outputs": [],
   "source": [
    "# Define your own model architecture here\n",
    "input_text = tf.placeholder(tf.int32, [None, None])\n",
    "labels = tf.placeholder(tf.int32, [None, None])\n",
    "model = gpt2_model(input_text, labels, sess)\n",
    "\n",
    "# Train the model on your dataset\n",
    "train(model, preprocessed_dataset)\n"
   ]
  },
  {
   "cell_type": "markdown",
   "id": "a1a3b9ff",
   "metadata": {},
   "source": [
    "# Génération de texte"
   ]
  },
  {
   "cell_type": "code",
   "execution_count": null,
   "id": "02b4bf93",
   "metadata": {},
   "outputs": [],
   "source": [
    "\n",
    "input_str = \"This is a story of a magic child who beat a dragon with a light saber. Once upon a time\"\n",
    "# Generate text using the fine-tuned model\n",
    "generated_text = generate_text(model, sess, input_str)"
   ]
  },
  {
   "cell_type": "code",
   "execution_count": null,
   "id": "fb0899c4",
   "metadata": {},
   "outputs": [],
   "source": []
  },
  {
   "cell_type": "code",
   "execution_count": null,
   "id": "3139073f",
   "metadata": {},
   "outputs": [],
   "source": []
  }
 ],
 "metadata": {
  "kernelspec": {
   "display_name": "Python 3 (ipykernel)",
   "language": "python",
   "name": "python3"
  },
  "language_info": {
   "codemirror_mode": {
    "name": "ipython",
    "version": 3
   },
   "file_extension": ".py",
   "mimetype": "text/x-python",
   "name": "python",
   "nbconvert_exporter": "python",
   "pygments_lexer": "ipython3",
   "version": "3.10.6"
  },
  "toc": {
   "base_numbering": 1,
   "nav_menu": {},
   "number_sections": true,
   "sideBar": true,
   "skip_h1_title": false,
   "title_cell": "Table of Contents",
   "title_sidebar": "Contents",
   "toc_cell": false,
   "toc_position": {},
   "toc_section_display": true,
   "toc_window_display": false
  }
 },
 "nbformat": 4,
 "nbformat_minor": 5
}
